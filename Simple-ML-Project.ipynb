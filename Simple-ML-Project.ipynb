{
 "cells": [
  {
   "cell_type": "markdown",
   "id": "4c434aa6",
   "metadata": {},
   "source": [
    "# CA-4\n",
    "## Phase 0"
   ]
  },
  {
   "cell_type": "code",
   "execution_count": 43,
   "id": "9e7dab22",
   "metadata": {},
   "outputs": [],
   "source": [
    "import pandas as pd\n",
    "import math\n",
    "import copy\n",
    "import numpy as np\n",
    "import matplotlib.pyplot as plt\n",
    "from sklearn.feature_selection import SelectKBest, SelectPercentile, mutual_info_classif\n",
    "from sklearn.model_selection import train_test_split\n",
    "from sklearn.neighbors import KNeighborsClassifier\n",
    "from sklearn import metrics\n",
    "from sklearn import tree\n",
    "from matplotlib import cm\n",
    "from matplotlib.ticker import LinearLocator\n",
    "from mpl_toolkits.mplot3d import Axes3D\n",
    "from sklearn.ensemble import RandomForestClassifier\n",
    "import seaborn as sns"
   ]
  },
  {
   "cell_type": "code",
   "execution_count": 2,
   "id": "2e35a0b0",
   "metadata": {},
   "outputs": [
    {
     "data": {
      "text/html": [
       "<div>\n",
       "<style scoped>\n",
       "    .dataframe tbody tr th:only-of-type {\n",
       "        vertical-align: middle;\n",
       "    }\n",
       "\n",
       "    .dataframe tbody tr th {\n",
       "        vertical-align: top;\n",
       "    }\n",
       "\n",
       "    .dataframe thead th {\n",
       "        text-align: right;\n",
       "    }\n",
       "</style>\n",
       "<table border=\"1\" class=\"dataframe\">\n",
       "  <thead>\n",
       "    <tr style=\"text-align: right;\">\n",
       "      <th></th>\n",
       "      <th>artist_name</th>\n",
       "      <th>track_name</th>\n",
       "      <th>popularity</th>\n",
       "      <th>acousticness</th>\n",
       "      <th>danceability</th>\n",
       "      <th>duration_ms</th>\n",
       "      <th>energy</th>\n",
       "      <th>instrumentalness</th>\n",
       "      <th>key</th>\n",
       "      <th>liveness</th>\n",
       "      <th>loudness</th>\n",
       "      <th>mode</th>\n",
       "      <th>speechiness</th>\n",
       "      <th>tempo</th>\n",
       "      <th>valence</th>\n",
       "      <th>music_genre</th>\n",
       "    </tr>\n",
       "  </thead>\n",
       "  <tbody>\n",
       "    <tr>\n",
       "      <th>0</th>\n",
       "      <td>Blockhead</td>\n",
       "      <td>Cheer up, You're Not Dead Yet</td>\n",
       "      <td>44.0</td>\n",
       "      <td>0.00621</td>\n",
       "      <td>0.711</td>\n",
       "      <td>285987.0</td>\n",
       "      <td>0.6210</td>\n",
       "      <td>0.029700</td>\n",
       "      <td>G</td>\n",
       "      <td>0.1590</td>\n",
       "      <td>-7.429</td>\n",
       "      <td>Major</td>\n",
       "      <td>0.0382</td>\n",
       "      <td>142.065</td>\n",
       "      <td>0.6070</td>\n",
       "      <td>Jazz</td>\n",
       "    </tr>\n",
       "    <tr>\n",
       "      <th>1</th>\n",
       "      <td>FloFilz</td>\n",
       "      <td>Corners</td>\n",
       "      <td>34.0</td>\n",
       "      <td>0.34700</td>\n",
       "      <td>0.729</td>\n",
       "      <td>103703.0</td>\n",
       "      <td>0.5150</td>\n",
       "      <td>0.006920</td>\n",
       "      <td>C</td>\n",
       "      <td>0.1270</td>\n",
       "      <td>-10.147</td>\n",
       "      <td>Major</td>\n",
       "      <td>0.1840</td>\n",
       "      <td>79.969</td>\n",
       "      <td>0.2870</td>\n",
       "      <td>Jazz</td>\n",
       "    </tr>\n",
       "    <tr>\n",
       "      <th>2</th>\n",
       "      <td>Bonobo</td>\n",
       "      <td>We Could Forever</td>\n",
       "      <td>51.0</td>\n",
       "      <td>0.01810</td>\n",
       "      <td>0.669</td>\n",
       "      <td>NaN</td>\n",
       "      <td>0.8850</td>\n",
       "      <td>0.880000</td>\n",
       "      <td>G</td>\n",
       "      <td>0.2650</td>\n",
       "      <td>-7.080</td>\n",
       "      <td>Minor</td>\n",
       "      <td>0.0378</td>\n",
       "      <td>NaN</td>\n",
       "      <td>0.6360</td>\n",
       "      <td>Jazz</td>\n",
       "    </tr>\n",
       "    <tr>\n",
       "      <th>3</th>\n",
       "      <td>Nils Landgren</td>\n",
       "      <td>A Child Is Born</td>\n",
       "      <td>39.0</td>\n",
       "      <td>0.91800</td>\n",
       "      <td>0.484</td>\n",
       "      <td>228733.0</td>\n",
       "      <td>0.0693</td>\n",
       "      <td>0.000069</td>\n",
       "      <td>F</td>\n",
       "      <td>0.1390</td>\n",
       "      <td>-15.542</td>\n",
       "      <td>Major</td>\n",
       "      <td>0.0346</td>\n",
       "      <td>82.707</td>\n",
       "      <td>0.2060</td>\n",
       "      <td>Jazz</td>\n",
       "    </tr>\n",
       "    <tr>\n",
       "      <th>4</th>\n",
       "      <td>Masayoshi Takanaka</td>\n",
       "      <td>Samba Pati</td>\n",
       "      <td>36.0</td>\n",
       "      <td>0.03450</td>\n",
       "      <td>0.473</td>\n",
       "      <td>342867.0</td>\n",
       "      <td>0.8230</td>\n",
       "      <td>0.446000</td>\n",
       "      <td>G</td>\n",
       "      <td>0.3060</td>\n",
       "      <td>-6.625</td>\n",
       "      <td>Major</td>\n",
       "      <td>0.0630</td>\n",
       "      <td>104.694</td>\n",
       "      <td>0.3830</td>\n",
       "      <td>Jazz</td>\n",
       "    </tr>\n",
       "    <tr>\n",
       "      <th>...</th>\n",
       "      <td>...</td>\n",
       "      <td>...</td>\n",
       "      <td>...</td>\n",
       "      <td>...</td>\n",
       "      <td>...</td>\n",
       "      <td>...</td>\n",
       "      <td>...</td>\n",
       "      <td>...</td>\n",
       "      <td>...</td>\n",
       "      <td>...</td>\n",
       "      <td>...</td>\n",
       "      <td>...</td>\n",
       "      <td>...</td>\n",
       "      <td>...</td>\n",
       "      <td>...</td>\n",
       "      <td>...</td>\n",
       "    </tr>\n",
       "    <tr>\n",
       "      <th>29995</th>\n",
       "      <td>Wolfgang Amadeus Mozart</td>\n",
       "      <td>Die Zauberflöte, K. 620: Wie stark ist nicht d...</td>\n",
       "      <td>22.0</td>\n",
       "      <td>0.91100</td>\n",
       "      <td>0.326</td>\n",
       "      <td>368640.0</td>\n",
       "      <td>0.1330</td>\n",
       "      <td>0.000000</td>\n",
       "      <td>G</td>\n",
       "      <td>0.1300</td>\n",
       "      <td>-20.493</td>\n",
       "      <td>Major</td>\n",
       "      <td>0.0557</td>\n",
       "      <td>92.090</td>\n",
       "      <td>0.2060</td>\n",
       "      <td>Classical</td>\n",
       "    </tr>\n",
       "    <tr>\n",
       "      <th>29996</th>\n",
       "      <td>New York Philharmonic</td>\n",
       "      <td>Symphony No. 2 in D Major, Op. 73: II. Adagio ...</td>\n",
       "      <td>26.0</td>\n",
       "      <td>0.96500</td>\n",
       "      <td>0.126</td>\n",
       "      <td>514213.0</td>\n",
       "      <td>0.2040</td>\n",
       "      <td>0.869000</td>\n",
       "      <td>B</td>\n",
       "      <td>0.1060</td>\n",
       "      <td>-16.474</td>\n",
       "      <td>Major</td>\n",
       "      <td>0.0395</td>\n",
       "      <td>82.437</td>\n",
       "      <td>0.0387</td>\n",
       "      <td>Classical</td>\n",
       "    </tr>\n",
       "    <tr>\n",
       "      <th>29997</th>\n",
       "      <td>Georges Bizet</td>\n",
       "      <td>Bizet: Carmen, WD 31, Act 1 Scene 4: No. 5, Ha...</td>\n",
       "      <td>54.0</td>\n",
       "      <td>0.97600</td>\n",
       "      <td>0.363</td>\n",
       "      <td>262147.0</td>\n",
       "      <td>0.1150</td>\n",
       "      <td>0.000000</td>\n",
       "      <td>D</td>\n",
       "      <td>0.0992</td>\n",
       "      <td>-17.325</td>\n",
       "      <td>Major</td>\n",
       "      <td>0.0689</td>\n",
       "      <td>NaN</td>\n",
       "      <td>0.2310</td>\n",
       "      <td>Classical</td>\n",
       "    </tr>\n",
       "    <tr>\n",
       "      <th>29998</th>\n",
       "      <td>Edvard Grieg</td>\n",
       "      <td>Peer Gynt-Suite Nr. 1, Op. 46: I. Morning</td>\n",
       "      <td>42.0</td>\n",
       "      <td>0.98500</td>\n",
       "      <td>0.123</td>\n",
       "      <td>259573.0</td>\n",
       "      <td>0.0174</td>\n",
       "      <td>0.906000</td>\n",
       "      <td>E</td>\n",
       "      <td>0.1250</td>\n",
       "      <td>-23.671</td>\n",
       "      <td>Major</td>\n",
       "      <td>0.0408</td>\n",
       "      <td>71.705</td>\n",
       "      <td>0.0352</td>\n",
       "      <td>Classical</td>\n",
       "    </tr>\n",
       "    <tr>\n",
       "      <th>29999</th>\n",
       "      <td>Johann Sebastian Bach</td>\n",
       "      <td>Suite No. 2 in B Minor, BWV 1067: VI. Menuet</td>\n",
       "      <td>36.0</td>\n",
       "      <td>0.77200</td>\n",
       "      <td>0.486</td>\n",
       "      <td>74600.0</td>\n",
       "      <td>0.1570</td>\n",
       "      <td>0.906000</td>\n",
       "      <td>G#</td>\n",
       "      <td>0.1470</td>\n",
       "      <td>-19.078</td>\n",
       "      <td>Minor</td>\n",
       "      <td>0.0375</td>\n",
       "      <td>124.737</td>\n",
       "      <td>0.6190</td>\n",
       "      <td>Classical</td>\n",
       "    </tr>\n",
       "  </tbody>\n",
       "</table>\n",
       "<p>30000 rows × 16 columns</p>\n",
       "</div>"
      ],
      "text/plain": [
       "                   artist_name  \\\n",
       "0                    Blockhead   \n",
       "1                      FloFilz   \n",
       "2                       Bonobo   \n",
       "3                Nils Landgren   \n",
       "4           Masayoshi Takanaka   \n",
       "...                        ...   \n",
       "29995  Wolfgang Amadeus Mozart   \n",
       "29996    New York Philharmonic   \n",
       "29997            Georges Bizet   \n",
       "29998             Edvard Grieg   \n",
       "29999    Johann Sebastian Bach   \n",
       "\n",
       "                                              track_name  popularity  \\\n",
       "0                          Cheer up, You're Not Dead Yet        44.0   \n",
       "1                                                Corners        34.0   \n",
       "2                                       We Could Forever        51.0   \n",
       "3                                        A Child Is Born        39.0   \n",
       "4                                             Samba Pati        36.0   \n",
       "...                                                  ...         ...   \n",
       "29995  Die Zauberflöte, K. 620: Wie stark ist nicht d...        22.0   \n",
       "29996  Symphony No. 2 in D Major, Op. 73: II. Adagio ...        26.0   \n",
       "29997  Bizet: Carmen, WD 31, Act 1 Scene 4: No. 5, Ha...        54.0   \n",
       "29998          Peer Gynt-Suite Nr. 1, Op. 46: I. Morning        42.0   \n",
       "29999       Suite No. 2 in B Minor, BWV 1067: VI. Menuet        36.0   \n",
       "\n",
       "       acousticness  danceability  duration_ms  energy  instrumentalness key  \\\n",
       "0           0.00621         0.711     285987.0  0.6210          0.029700   G   \n",
       "1           0.34700         0.729     103703.0  0.5150          0.006920   C   \n",
       "2           0.01810         0.669          NaN  0.8850          0.880000   G   \n",
       "3           0.91800         0.484     228733.0  0.0693          0.000069   F   \n",
       "4           0.03450         0.473     342867.0  0.8230          0.446000   G   \n",
       "...             ...           ...          ...     ...               ...  ..   \n",
       "29995       0.91100         0.326     368640.0  0.1330          0.000000   G   \n",
       "29996       0.96500         0.126     514213.0  0.2040          0.869000   B   \n",
       "29997       0.97600         0.363     262147.0  0.1150          0.000000   D   \n",
       "29998       0.98500         0.123     259573.0  0.0174          0.906000   E   \n",
       "29999       0.77200         0.486      74600.0  0.1570          0.906000  G#   \n",
       "\n",
       "       liveness  loudness   mode  speechiness    tempo  valence music_genre  \n",
       "0        0.1590    -7.429  Major       0.0382  142.065   0.6070        Jazz  \n",
       "1        0.1270   -10.147  Major       0.1840   79.969   0.2870        Jazz  \n",
       "2        0.2650    -7.080  Minor       0.0378      NaN   0.6360        Jazz  \n",
       "3        0.1390   -15.542  Major       0.0346   82.707   0.2060        Jazz  \n",
       "4        0.3060    -6.625  Major       0.0630  104.694   0.3830        Jazz  \n",
       "...         ...       ...    ...          ...      ...      ...         ...  \n",
       "29995    0.1300   -20.493  Major       0.0557   92.090   0.2060   Classical  \n",
       "29996    0.1060   -16.474  Major       0.0395   82.437   0.0387   Classical  \n",
       "29997    0.0992   -17.325  Major       0.0689      NaN   0.2310   Classical  \n",
       "29998    0.1250   -23.671  Major       0.0408   71.705   0.0352   Classical  \n",
       "29999    0.1470   -19.078  Minor       0.0375  124.737   0.6190   Classical  \n",
       "\n",
       "[30000 rows x 16 columns]"
      ]
     },
     "execution_count": 2,
     "metadata": {},
     "output_type": "execute_result"
    }
   ],
   "source": [
    "dataset = pd.read_csv('dataset.csv')\n",
    "dataset"
   ]
  },
  {
   "cell_type": "code",
   "execution_count": 3,
   "id": "a9803db7",
   "metadata": {},
   "outputs": [
    {
     "name": "stdout",
     "output_type": "stream",
     "text": [
      "Music Genres: ['Jazz', 'Alternative', 'Country', 'Rap', 'Rock', 'Classical']\n"
     ]
    }
   ],
   "source": [
    "target_list = []\n",
    "for mg in np.array(dataset.music_genre):\n",
    "    if mg not in target_list:\n",
    "        target_list.append(mg)\n",
    "print('Music Genres:', target_list)"
   ]
  },
  {
   "cell_type": "markdown",
   "id": "626b36f7",
   "metadata": {},
   "source": [
    "### Part 1:"
   ]
  },
  {
   "cell_type": "code",
   "execution_count": 4,
   "id": "c24e7280",
   "metadata": {},
   "outputs": [
    {
     "name": "stdout",
     "output_type": "stream",
     "text": [
      "<class 'pandas.core.frame.DataFrame'>\n",
      "RangeIndex: 30000 entries, 0 to 29999\n",
      "Data columns (total 16 columns):\n",
      " #   Column            Non-Null Count  Dtype  \n",
      "---  ------            --------------  -----  \n",
      " 0   artist_name       28506 non-null  object \n",
      " 1   track_name        30000 non-null  object \n",
      " 2   popularity        30000 non-null  float64\n",
      " 3   acousticness      30000 non-null  float64\n",
      " 4   danceability      30000 non-null  float64\n",
      " 5   duration_ms       26990 non-null  float64\n",
      " 6   energy            30000 non-null  float64\n",
      " 7   instrumentalness  30000 non-null  float64\n",
      " 8   key               30000 non-null  object \n",
      " 9   liveness          30000 non-null  float64\n",
      " 10  loudness          30000 non-null  float64\n",
      " 11  mode              30000 non-null  object \n",
      " 12  speechiness       30000 non-null  float64\n",
      " 13  tempo             27067 non-null  float64\n",
      " 14  valence           30000 non-null  float64\n",
      " 15  music_genre       30000 non-null  object \n",
      "dtypes: float64(11), object(5)\n",
      "memory usage: 3.7+ MB\n"
     ]
    }
   ],
   "source": [
    "dataset.info()"
   ]
  },
  {
   "cell_type": "code",
   "execution_count": 5,
   "id": "1e0aedf9",
   "metadata": {},
   "outputs": [
    {
     "data": {
      "text/html": [
       "<div>\n",
       "<style scoped>\n",
       "    .dataframe tbody tr th:only-of-type {\n",
       "        vertical-align: middle;\n",
       "    }\n",
       "\n",
       "    .dataframe tbody tr th {\n",
       "        vertical-align: top;\n",
       "    }\n",
       "\n",
       "    .dataframe thead th {\n",
       "        text-align: right;\n",
       "    }\n",
       "</style>\n",
       "<table border=\"1\" class=\"dataframe\">\n",
       "  <thead>\n",
       "    <tr style=\"text-align: right;\">\n",
       "      <th></th>\n",
       "      <th>popularity</th>\n",
       "      <th>acousticness</th>\n",
       "      <th>danceability</th>\n",
       "      <th>duration_ms</th>\n",
       "      <th>energy</th>\n",
       "      <th>instrumentalness</th>\n",
       "      <th>liveness</th>\n",
       "      <th>loudness</th>\n",
       "      <th>speechiness</th>\n",
       "      <th>tempo</th>\n",
       "      <th>valence</th>\n",
       "    </tr>\n",
       "  </thead>\n",
       "  <tbody>\n",
       "    <tr>\n",
       "      <th>count</th>\n",
       "      <td>30000.000000</td>\n",
       "      <td>30000.000000</td>\n",
       "      <td>30000.000000</td>\n",
       "      <td>2.699000e+04</td>\n",
       "      <td>30000.000000</td>\n",
       "      <td>30000.000000</td>\n",
       "      <td>30000.000000</td>\n",
       "      <td>30000.000000</td>\n",
       "      <td>30000.000000</td>\n",
       "      <td>27067.000000</td>\n",
       "      <td>30000.000000</td>\n",
       "    </tr>\n",
       "    <tr>\n",
       "      <th>mean</th>\n",
       "      <td>47.769533</td>\n",
       "      <td>0.359661</td>\n",
       "      <td>0.540929</td>\n",
       "      <td>2.466460e+05</td>\n",
       "      <td>0.556709</td>\n",
       "      <td>0.180807</td>\n",
       "      <td>0.183610</td>\n",
       "      <td>-10.079862</td>\n",
       "      <td>0.083861</td>\n",
       "      <td>117.559824</td>\n",
       "      <td>0.446563</td>\n",
       "    </tr>\n",
       "    <tr>\n",
       "      <th>std</th>\n",
       "      <td>14.512665</td>\n",
       "      <td>0.364182</td>\n",
       "      <td>0.181719</td>\n",
       "      <td>1.126005e+05</td>\n",
       "      <td>0.277856</td>\n",
       "      <td>0.329365</td>\n",
       "      <td>0.150733</td>\n",
       "      <td>6.953936</td>\n",
       "      <td>0.093366</td>\n",
       "      <td>30.719934</td>\n",
       "      <td>0.248745</td>\n",
       "    </tr>\n",
       "    <tr>\n",
       "      <th>min</th>\n",
       "      <td>0.000000</td>\n",
       "      <td>0.000001</td>\n",
       "      <td>0.059600</td>\n",
       "      <td>1.550900e+04</td>\n",
       "      <td>0.000792</td>\n",
       "      <td>0.000000</td>\n",
       "      <td>0.015700</td>\n",
       "      <td>-47.046000</td>\n",
       "      <td>0.022300</td>\n",
       "      <td>34.347000</td>\n",
       "      <td>0.000000</td>\n",
       "    </tr>\n",
       "    <tr>\n",
       "      <th>25%</th>\n",
       "      <td>39.000000</td>\n",
       "      <td>0.029600</td>\n",
       "      <td>0.423000</td>\n",
       "      <td>1.904930e+05</td>\n",
       "      <td>0.361000</td>\n",
       "      <td>0.000000</td>\n",
       "      <td>0.095800</td>\n",
       "      <td>-12.057250</td>\n",
       "      <td>0.035000</td>\n",
       "      <td>92.340000</td>\n",
       "      <td>0.243000</td>\n",
       "    </tr>\n",
       "    <tr>\n",
       "      <th>50%</th>\n",
       "      <td>49.000000</td>\n",
       "      <td>0.205000</td>\n",
       "      <td>0.553000</td>\n",
       "      <td>2.245600e+05</td>\n",
       "      <td>0.602000</td>\n",
       "      <td>0.000089</td>\n",
       "      <td>0.122000</td>\n",
       "      <td>-7.623000</td>\n",
       "      <td>0.045100</td>\n",
       "      <td>115.491000</td>\n",
       "      <td>0.435000</td>\n",
       "    </tr>\n",
       "    <tr>\n",
       "      <th>75%</th>\n",
       "      <td>57.000000</td>\n",
       "      <td>0.710000</td>\n",
       "      <td>0.671000</td>\n",
       "      <td>2.726670e+05</td>\n",
       "      <td>0.786000</td>\n",
       "      <td>0.125250</td>\n",
       "      <td>0.222000</td>\n",
       "      <td>-5.429750</td>\n",
       "      <td>0.080300</td>\n",
       "      <td>139.817500</td>\n",
       "      <td>0.639000</td>\n",
       "    </tr>\n",
       "    <tr>\n",
       "      <th>max</th>\n",
       "      <td>99.000000</td>\n",
       "      <td>0.996000</td>\n",
       "      <td>0.977000</td>\n",
       "      <td>3.195440e+06</td>\n",
       "      <td>0.998000</td>\n",
       "      <td>0.994000</td>\n",
       "      <td>0.996000</td>\n",
       "      <td>1.342000</td>\n",
       "      <td>0.941000</td>\n",
       "      <td>219.331000</td>\n",
       "      <td>0.985000</td>\n",
       "    </tr>\n",
       "  </tbody>\n",
       "</table>\n",
       "</div>"
      ],
      "text/plain": [
       "         popularity  acousticness  danceability   duration_ms        energy  \\\n",
       "count  30000.000000  30000.000000  30000.000000  2.699000e+04  30000.000000   \n",
       "mean      47.769533      0.359661      0.540929  2.466460e+05      0.556709   \n",
       "std       14.512665      0.364182      0.181719  1.126005e+05      0.277856   \n",
       "min        0.000000      0.000001      0.059600  1.550900e+04      0.000792   \n",
       "25%       39.000000      0.029600      0.423000  1.904930e+05      0.361000   \n",
       "50%       49.000000      0.205000      0.553000  2.245600e+05      0.602000   \n",
       "75%       57.000000      0.710000      0.671000  2.726670e+05      0.786000   \n",
       "max       99.000000      0.996000      0.977000  3.195440e+06      0.998000   \n",
       "\n",
       "       instrumentalness      liveness      loudness   speechiness  \\\n",
       "count      30000.000000  30000.000000  30000.000000  30000.000000   \n",
       "mean           0.180807      0.183610    -10.079862      0.083861   \n",
       "std            0.329365      0.150733      6.953936      0.093366   \n",
       "min            0.000000      0.015700    -47.046000      0.022300   \n",
       "25%            0.000000      0.095800    -12.057250      0.035000   \n",
       "50%            0.000089      0.122000     -7.623000      0.045100   \n",
       "75%            0.125250      0.222000     -5.429750      0.080300   \n",
       "max            0.994000      0.996000      1.342000      0.941000   \n",
       "\n",
       "              tempo       valence  \n",
       "count  27067.000000  30000.000000  \n",
       "mean     117.559824      0.446563  \n",
       "std       30.719934      0.248745  \n",
       "min       34.347000      0.000000  \n",
       "25%       92.340000      0.243000  \n",
       "50%      115.491000      0.435000  \n",
       "75%      139.817500      0.639000  \n",
       "max      219.331000      0.985000  "
      ]
     },
     "execution_count": 5,
     "metadata": {},
     "output_type": "execute_result"
    }
   ],
   "source": [
    "dataset.describe()"
   ]
  },
  {
   "cell_type": "markdown",
   "id": "cbed7d4e",
   "metadata": {},
   "source": [
    "### Part 2:"
   ]
  },
  {
   "cell_type": "code",
   "execution_count": 6,
   "id": "eb13de22",
   "metadata": {},
   "outputs": [
    {
     "data": {
      "text/plain": [
       "artist_name         1494\n",
       "track_name             0\n",
       "popularity             0\n",
       "acousticness           0\n",
       "danceability           0\n",
       "duration_ms         3010\n",
       "energy                 0\n",
       "instrumentalness       0\n",
       "key                    0\n",
       "liveness               0\n",
       "loudness               0\n",
       "mode                   0\n",
       "speechiness            0\n",
       "tempo               2933\n",
       "valence                0\n",
       "music_genre            0\n",
       "dtype: int64"
      ]
     },
     "execution_count": 6,
     "metadata": {},
     "output_type": "execute_result"
    }
   ],
   "source": [
    "pd.isna(dataset).sum()"
   ]
  },
  {
   "cell_type": "markdown",
   "id": "6c9c01d9",
   "metadata": {},
   "source": [
    "### Part 3:\n",
    "#### Non-Numerical:"
   ]
  },
  {
   "cell_type": "code",
   "execution_count": 7,
   "id": "a548ddcd",
   "metadata": {},
   "outputs": [
    {
     "data": {
      "image/png": "[encoded data removed]",
      "text/plain": [
       "<Figure size 432x288 with 1 Axes>"
      ]
     },
     "metadata": {
      "needs_background": "light"
     },
     "output_type": "display_data"
    },
    {
     "data": {
      "image/png": "[encoded data removed]",
      "text/plain": [
       "<Figure size 432x288 with 1 Axes>"
      ]
     },
     "metadata": {
      "needs_background": "light"
     },
     "output_type": "display_data"
    },
    {
     "data": {
      "image/png": "[encoded data removed]",
      "text/plain": [
       "<Figure size 432x288 with 1 Axes>"
      ]
     },
     "metadata": {
      "needs_background": "light"
     },
     "output_type": "display_data"
    },
    {
     "data": {
      "image/png": "[encoded data removed]",
      "text/plain": [
       "<Figure size 432x288 with 1 Axes>"
      ]
     },
     "metadata": {
      "needs_background": "light"
     },
     "output_type": "display_data"
    },
    {
     "data": {
      "image/png": "[encoded data removed]",
      "text/plain": [
       "<Figure size 432x288 with 1 Axes>"
      ]
     },
     "metadata": {
      "needs_background": "light"
     },
     "output_type": "display_data"
    }
   ],
   "source": [
    "#categorical to numeric\n",
    "dataset.artist_name = dataset.artist_name.astype(\"category\").cat.codes\n",
    "dataset.track_name = dataset.track_name.astype(\"category\").cat.codes\n",
    "dataset.key = dataset.key.astype(\"category\").cat.codes\n",
    "dataset['mode'] = dataset['mode'].astype(\"category\").cat.codes\n",
    "\n",
    "music_genre = {\"Jazz\":0, \"Alternative\":1, \"Country\":2, \"Rap\":3, \"Rock\":4, \"Classical\":5}\n",
    "dataset[\"music_genre\"] = dataset[\"music_genre\"].map(music_genre)\n",
    "\n",
    "\n",
    "categorical_dataset = copy.deepcopy(dataset.iloc[:, [0,1,8,11,15]])\n",
    "lst =categorical_dataset.columns.values\n",
    "for title in lst:\n",
    "    categorical_dataset[title].plot.hist()\n",
    "    plt.title(title)\n",
    "    plt.show()"
   ]
  },
  {
   "cell_type": "markdown",
   "id": "c68947e3",
   "metadata": {},
   "source": [
    "#### Filling Missing Values"
   ]
  },
  {
   "cell_type": "code",
   "execution_count": 8,
   "id": "c12c25ec",
   "metadata": {},
   "outputs": [
    {
     "data": {
      "text/plain": [
       "artist_name         0\n",
       "track_name          0\n",
       "popularity          0\n",
       "acousticness        0\n",
       "danceability        0\n",
       "duration_ms         0\n",
       "energy              0\n",
       "instrumentalness    0\n",
       "key                 0\n",
       "liveness            0\n",
       "loudness            0\n",
       "mode                0\n",
       "speechiness         0\n",
       "tempo               0\n",
       "valence             0\n",
       "music_genre         0\n",
       "dtype: int64"
      ]
     },
     "execution_count": 8,
     "metadata": {},
     "output_type": "execute_result"
    }
   ],
   "source": [
    "# # First Try\n",
    "# dataset['duration_ms'].fillna((dataset['duration_ms'].mean()), inplace=True)\n",
    "# dataset['tempo'].fillna((dataset['tempo'].mean()), inplace=True)\n",
    "# dataset['artist_name'].fillna((dataset['artist_name'].mode()), inplace=True)\n",
    "# pd.isna(dataset).sum()\n",
    "\n",
    "# Second Try\n",
    "def replace_with_mode_mean(x_, column):\n",
    "    x = copy.deepcopy(np.array(x_))\n",
    "    for i in range(len(x)):\n",
    "        if pd.isnull(x[i]):\n",
    "            missed_data_genre = dataset.music_genre[i]\n",
    "            dataset_temp = dataset[(dataset[\"music_genre\"] == missed_data_genre)]\n",
    "            if column == 'artist_name':\n",
    "                x[i] = dataset_temp[column].mode()\n",
    "            else:\n",
    "                x[i] = dataset_temp[column].mean()\n",
    "    return x\n",
    "    \n",
    "x = replace_with_mode_mean(dataset.artist_name, 'artist_name')\n",
    "df = pd.DataFrame(x, columns = ['artist_name'])\n",
    "dataset['artist_name'] = df['artist_name']\n",
    "\n",
    "x = replace_with_mode_mean(dataset.duration_ms, 'duration_ms')\n",
    "df = pd.DataFrame(x, columns = ['duration_ms'])\n",
    "dataset['duration_ms'] = df['duration_ms']\n",
    "\n",
    "x = replace_with_mode_mean(dataset.tempo, 'tempo')\n",
    "df = pd.DataFrame(x, columns = ['tempo'])\n",
    "dataset['tempo'] = df['tempo']\n",
    "\n",
    "pd.isna(dataset).sum()"
   ]
  },
  {
   "cell_type": "markdown",
   "id": "020008e3",
   "metadata": {},
   "source": [
    "#### Numerical:"
   ]
  },
  {
   "cell_type": "code",
   "execution_count": 9,
   "id": "e06c790c",
   "metadata": {},
   "outputs": [
    {
     "data": {
      "image/png": "[encoded data removed]",
      "text/plain": [
       "<Figure size 432x288 with 1 Axes>"
      ]
     },
     "metadata": {
      "needs_background": "light"
     },
     "output_type": "display_data"
    },
    {
     "data": {
      "image/png": "[encoded data removed]",
      "text/plain": [
       "<Figure size 432x288 with 1 Axes>"
      ]
     },
     "metadata": {
      "needs_background": "light"
     },
     "output_type": "display_data"
    },
    {
     "data": {
      "image/png": "[encoded data removed]",
      "text/plain": [
       "<Figure size 432x288 with 1 Axes>"
      ]
     },
     "metadata": {
      "needs_background": "light"
     },
     "output_type": "display_data"
    },
    {
     "data": {
      "image/png": "[encoded data removed]",
      "text/plain": [
       "<Figure size 432x288 with 1 Axes>"
      ]
     },
     "metadata": {
      "needs_background": "light"
     },
     "output_type": "display_data"
    },
    {
     "data": {
      "image/png": "[encoded data removed]",
      "text/plain": [
       "<Figure size 432x288 with 1 Axes>"
      ]
     },
     "metadata": {
      "needs_background": "light"
     },
     "output_type": "display_data"
    },
    {
     "data": {
      "image/png": "[encoded data removed]",
      "text/plain": [
       "<Figure size 432x288 with 1 Axes>"
      ]
     },
     "metadata": {
      "needs_background": "light"
     },
     "output_type": "display_data"
    },
    {
     "data": {
      "image/png": "[encoded data removed]",
      "text/plain": [
       "<Figure size 432x288 with 1 Axes>"
      ]
     },
     "metadata": {
      "needs_background": "light"
     },
     "output_type": "display_data"
    },
    {
     "data": {
      "image/png": "[encoded data removed]",
      "text/plain": [
       "<Figure size 432x288 with 1 Axes>"
      ]
     },
     "metadata": {
      "needs_background": "light"
     },
     "output_type": "display_data"
    },
    {
     "data": {
      "image/png": "[encoded data removed]",
      "text/plain": [
       "<Figure size 432x288 with 1 Axes>"
      ]
     },
     "metadata": {
      "needs_background": "light"
     },
     "output_type": "display_data"
    },
    {
     "data": {
      "image/png": "[encoded data removed]",
      "text/plain": [
       "<Figure size 432x288 with 1 Axes>"
      ]
     },
     "metadata": {
      "needs_background": "light"
     },
     "output_type": "display_data"
    },
    {
     "data": {
      "image/png": "[encoded data removed]",
      "text/plain": [
       "<Figure size 432x288 with 1 Axes>"
      ]
     },
     "metadata": {
      "needs_background": "light"
     },
     "output_type": "display_data"
    },
    {
     "data": {
      "image/png": "[encoded data removed]",
      "text/plain": [
       "<Figure size 432x288 with 1 Axes>"
      ]
     },
     "metadata": {
      "needs_background": "light"
     },
     "output_type": "display_data"
    },
    {
     "data": {
      "image/png": "[encoded data removed]",
      "text/plain": [
       "<Figure size 432x288 with 1 Axes>"
      ]
     },
     "metadata": {
      "needs_background": "light"
     },
     "output_type": "display_data"
    },
    {
     "data": {
      "image/png": "[encoded data removed]",
      "text/plain": [
       "<Figure size 432x288 with 1 Axes>"
      ]
     },
     "metadata": {
      "needs_background": "light"
     },
     "output_type": "display_data"
    },
    {
     "data": {
      "image/png": "[encoded data removed]",
      "text/plain": [
       "<Figure size 432x288 with 1 Axes>"
      ]
     },
     "metadata": {
      "needs_background": "light"
     },
     "output_type": "display_data"
    },
    {
     "data": {
      "image/png": "[encoded data removed]",
      "text/plain": [
       "<Figure size 432x288 with 1 Axes>"
      ]
     },
     "metadata": {
      "needs_background": "light"
     },
     "output_type": "display_data"
    }
   ],
   "source": [
    "numeric_dataset = copy.deepcopy(dataset.select_dtypes(include=np.number))\n",
    "lst = numeric_dataset.columns.values\n",
    "for title in lst:\n",
    "    numeric_dataset[title].plot.hist()\n",
    "    plt.title(title)\n",
    "    plt.show()"
   ]
  },
  {
   "cell_type": "markdown",
   "id": "9efe53a0",
   "metadata": {},
   "source": [
    "## Phase 1\n",
    "### Part 2:"
   ]
  },
  {
   "cell_type": "code",
   "execution_count": 10,
   "id": "71861b52",
   "metadata": {},
   "outputs": [
    {
     "data": {
      "text/plain": [
       "artist_name         0\n",
       "track_name          0\n",
       "popularity          0\n",
       "acousticness        0\n",
       "danceability        0\n",
       "duration_ms         0\n",
       "energy              0\n",
       "instrumentalness    0\n",
       "key                 0\n",
       "liveness            0\n",
       "loudness            0\n",
       "mode                0\n",
       "speechiness         0\n",
       "tempo               0\n",
       "valence             0\n",
       "music_genre         0\n",
       "dtype: int64"
      ]
     },
     "execution_count": 10,
     "metadata": {},
     "output_type": "execute_result"
    }
   ],
   "source": [
    "# #filling missing values ==> done before ==> first and second try\n",
    "pd.isna(dataset).sum()"
   ]
  },
  {
   "cell_type": "code",
   "execution_count": 11,
   "id": "51052f60",
   "metadata": {},
   "outputs": [],
   "source": [
    "#normalizing datas\n",
    "y = dataset.music_genre\n",
    "dataset.drop(\"music_genre\", axis=1, inplace=True)\n",
    "dataset = (dataset-dataset.min())/(dataset.max()-dataset.min())\n",
    "dataset['music_genre'] = y"
   ]
  },
  {
   "cell_type": "markdown",
   "id": "5ed297bb",
   "metadata": {},
   "source": [
    "### Part 7:\n",
    "#### Manual"
   ]
  },
  {
   "cell_type": "code",
   "execution_count": 12,
   "id": "ec76cf2c",
   "metadata": {},
   "outputs": [],
   "source": [
    "# def categorize_numerical_data(numerical_list, parts_num):\n",
    "#     x = copy.deepcopy(numerical_list)\n",
    "#     part_len = max(x)/parts_num\n",
    "#     for i in range(parts_num):\n",
    "#         for j in range(len(x)):\n",
    "#             if x[j] >= parts_num*part_len:\n",
    "#                 x[j] = parts_num-1\n",
    "#             if x[j] >= i*part_len and x[j] < (i+1)*part_len:\n",
    "#                 x[j] = i\n",
    "#     return x\n",
    "\n",
    "# def calculate_entropy(x):\n",
    "#     class_list = []\n",
    "#     class_types = []\n",
    "#     for element in x:\n",
    "#         if element not in class_types:\n",
    "#             class_list.append([element, [0,0,0,0,0,0], 0])\n",
    "#             class_types.append(element)\n",
    "#     for class_ in class_list:\n",
    "#         for i in range(len(x)):\n",
    "#             if x[i] == class_[0]:\n",
    "#                 class_[1][dataset.music_genre[i]] += 1\n",
    "#     for class_ in class_list:\n",
    "#         entropy = 0\n",
    "#         for genre in class_[1]:\n",
    "#             if genre == 0:\n",
    "#                 continue\n",
    "#             entropy += genre/sum(class_[1])*math.log2(sum(class_[1])/genre)\n",
    "#         class_[2] = entropy\n",
    "#     entropy = 0\n",
    "#     for class_ in class_list:\n",
    "#         entropy += sum(class_[1])/sum(x)*class_[2]\n",
    "#     return entropy\n",
    "\n",
    "# def calculate_info_gain(x):\n",
    "#     genres = [0,0,0,0,0,0]\n",
    "#     for i in range(len(x)):\n",
    "#         genres[dataset.music_genre[i]] += 1\n",
    "#     entropy_before = 0\n",
    "#     for genre in genres:\n",
    "#         entropy_before += genre/sum(genres)*math.log2(sum(genres)/genre)\n",
    "#     return entropy_before - calculate_entropy(x)\n",
    "\n",
    "# info_gain_dict = {}"
   ]
  },
  {
   "cell_type": "code",
   "execution_count": 13,
   "id": "fe04a50b",
   "metadata": {},
   "outputs": [],
   "source": [
    "# categorical_dataset = copy.deepcopy(dataset.iloc[:, [0,1,8,11]])\n",
    "# lst =categorical_dataset.columns.values\n",
    "# for title in lst:\n",
    "#     x = np.array(categorical_dataset[title])\n",
    "#     info_gain_dict[title] = calculate_info_gain(x)"
   ]
  },
  {
   "cell_type": "code",
   "execution_count": 14,
   "id": "6783f205",
   "metadata": {},
   "outputs": [],
   "source": [
    "# lst = numeric_dataset.columns.values\n",
    "# for title in lst:\n",
    "#     x = np.array(categorize_numerical_data(numeric_dataset[title], 30))\n",
    "#     info_gain_dict[title] = calculate_info_gain(x)"
   ]
  },
  {
   "cell_type": "code",
   "execution_count": 15,
   "id": "bcb1c6b0",
   "metadata": {},
   "outputs": [],
   "source": [
    "# print('Information Gain:')\n",
    "# info_gain_dict"
   ]
  },
  {
   "cell_type": "markdown",
   "id": "ec9507ec",
   "metadata": {},
   "source": [
    "#### With mutual_info_classif"
   ]
  },
  {
   "cell_type": "code",
   "execution_count": 16,
   "id": "70f85e4e",
   "metadata": {},
   "outputs": [
    {
     "data": {
      "text/plain": [
       "{'artist_name': 1.1942962105512653,\n",
       " 'track_name': 0.31349473999031074,\n",
       " 'popularity': 0.5120290654152786,\n",
       " 'acousticness': 0.3594439093392232,\n",
       " 'danceability': 0.2763390233242693,\n",
       " 'duration_ms': 0.2745613537146161,\n",
       " 'energy': 0.32957708845432476,\n",
       " 'instrumentalness': 0.298627128082563,\n",
       " 'key': 0.01511207438244666,\n",
       " 'liveness': 0.014677428498640399,\n",
       " 'loudness': 0.34671267215568813,\n",
       " 'mode': 0.032876167064483486,\n",
       " 'speechiness': 0.21321353102292306,\n",
       " 'tempo': 0.26009965563856285,\n",
       " 'valence': 0.14096574227641323}"
      ]
     },
     "execution_count": 16,
     "metadata": {},
     "output_type": "execute_result"
    }
   ],
   "source": [
    "info_gain_dict = {}\n",
    "lst = dataset.iloc[:,:15].columns.values\n",
    "for title in lst:\n",
    "    info_gain = mutual_info_classif(dataset[title].to_numpy().reshape(-1, 1), dataset['music_genre'].to_numpy())\n",
    "    info_gain_dict[title] = float(info_gain)\n",
    "info_gain_dict"
   ]
  },
  {
   "cell_type": "code",
   "execution_count": 17,
   "id": "fcaf1a48",
   "metadata": {},
   "outputs": [
    {
     "data": {
      "image/png": "[encoded data removed]",
      "text/plain": [
       "<Figure size 432x288 with 1 Axes>"
      ]
     },
     "metadata": {
      "needs_background": "light"
     },
     "output_type": "display_data"
    }
   ],
   "source": [
    "#sorting dictionary\n",
    "info_gain_dict = dict(sorted(info_gain_dict.items(), key=lambda item: item[1]))\n",
    "\n",
    "y_axis = list(info_gain_dict.keys())\n",
    "x_axis = list(info_gain_dict.values())\n",
    "plt.barh(y_axis,x_axis)\n",
    "plt.ylabel('feature')\n",
    "plt.xlabel('information gain')\n",
    "plt.show()"
   ]
  },
  {
   "cell_type": "markdown",
   "id": "d9068838",
   "metadata": {},
   "source": [
    "## Phase 2\n",
    "### Part 2:"
   ]
  },
  {
   "cell_type": "code",
   "execution_count": 18,
   "id": "ba2c5a3a",
   "metadata": {},
   "outputs": [],
   "source": [
    "y = dataset.music_genre\n",
    "# #first try\n",
    "# dataset.drop(\"key\", axis=1, inplace=True)\n",
    "# dataset.drop(\"liveness\", axis=1, inplace=True)\n",
    "# dataset.drop(\"music_genre\", axis=1, inplace=True)\n",
    "# dataset.drop(\"mode\", axis=1, inplace=True)\n",
    "# dataset.drop(\"tempo\", axis=1, inplace=True)\n",
    "# dataset.drop(\"duration_ms\", axis=1, inplace=True)\n",
    "# dataset.drop(\"valence\", axis=1, inplace=True)\n",
    "\n",
    "#second try\n",
    "dataset.drop(\"key\", axis=1, inplace=True)\n",
    "dataset.drop(\"liveness\", axis=1, inplace=True)\n",
    "dataset.drop(\"music_genre\", axis=1, inplace=True)\n",
    "dataset.drop(\"mode\", axis=1, inplace=True)\n",
    "dataset.drop(\"valence\", axis=1, inplace=True)\n",
    "\n",
    "x = copy.deepcopy(dataset)\n",
    "\n",
    "x_train, x_test, y_train, y_test = train_test_split(np.array(x), np.array(y), stratify = np.array(y), test_size=0.2)"
   ]
  },
  {
   "cell_type": "markdown",
   "id": "73c1dc77",
   "metadata": {},
   "source": [
    "### Part 3:\n",
    "### K-Nearest-Neighbors"
   ]
  },
  {
   "cell_type": "code",
   "execution_count": 19,
   "id": "2ca05c3c",
   "metadata": {},
   "outputs": [],
   "source": [
    "scores_test = {}\n",
    "scores_train = {}\n",
    "for k in range(1, 50):\n",
    "    knn = KNeighborsClassifier(n_neighbors = k)\n",
    "    knn.fit(x_train, y_train)\n",
    "    \n",
    "    y_pred_test = knn.predict(x_test)\n",
    "    y_pred_train = knn.predict(x_train)\n",
    "    scores_test[k] = metrics.accuracy_score(y_test, y_pred_test)\n",
    "    scores_train[k] = metrics.accuracy_score(y_train, y_pred_train)"
   ]
  },
  {
   "cell_type": "code",
   "execution_count": 20,
   "id": "c56ffabb",
   "metadata": {},
   "outputs": [
    {
     "data": {
      "image/png": "[encoded data removed]",
      "text/plain": [
       "<Figure size 432x288 with 1 Axes>"
      ]
     },
     "metadata": {
      "needs_background": "light"
     },
     "output_type": "display_data"
    },
    {
     "name": "stdout",
     "output_type": "stream",
     "text": [
      "Best N Neighbors for test data: 33\n",
      "Best Accuracy for test data: 61.81666666666666 %\n"
     ]
    }
   ],
   "source": [
    "x_axis = list(scores_test.keys())\n",
    "y_axis_test = list(scores_test.values())\n",
    "y_axis_train = list(scores_train.values())\n",
    "plt.plot(x_axis, y_axis_test)\n",
    "plt.plot(x_axis, y_axis_train)\n",
    "plt.ylabel('Accuracy')\n",
    "plt.xlabel('N Neighbors')\n",
    "plt.legend(('test','train'))\n",
    "plt.show()\n",
    "\n",
    "max_value_test = max(scores_test, key = scores_test.get)\n",
    "print(\"Best N Neighbors for test data:\", max_value_test)\n",
    "print(\"Best Accuracy for test data:\", scores_test[max_value_test]*100, '%')"
   ]
  },
  {
   "cell_type": "markdown",
   "id": "aaea25de",
   "metadata": {},
   "source": [
    "### Part 4:\n",
    "### Decision Tree"
   ]
  },
  {
   "cell_type": "code",
   "execution_count": 21,
   "id": "7fb24b4a",
   "metadata": {},
   "outputs": [],
   "source": [
    "max_depth_list = []\n",
    "min_samples_leaf_list = []\n",
    "dtree_test_accuracy_list = []\n",
    "dtree_train_accuracy_list = []\n",
    "for max_depth in range(1,20):\n",
    "    for min_samples_leaf in range(1,15):\n",
    "        dtree = tree.DecisionTreeClassifier(max_depth = max_depth, min_samples_leaf = min_samples_leaf)\n",
    "        dtree = dtree.fit(x_train, y_train)\n",
    "        y_pred_test = dtree.predict(x_test)\n",
    "        y_pred_train = dtree.predict(x_train)\n",
    "        \n",
    "        max_depth_list.append(max_depth)\n",
    "        min_samples_leaf_list.append(min_samples_leaf)\n",
    "        dtree_test_accuracy_list.append(metrics.accuracy_score(y_test, y_pred_test))\n",
    "        dtree_train_accuracy_list.append(metrics.accuracy_score(y_train, y_pred_train))"
   ]
  },
  {
   "cell_type": "markdown",
   "id": "20b10ace",
   "metadata": {},
   "source": [
    "#### test:"
   ]
  },
  {
   "cell_type": "code",
   "execution_count": 22,
   "id": "89873972",
   "metadata": {},
   "outputs": [
    {
     "data": {
      "image/png": "[encoded data removed]",
      "text/plain": [
       "<Figure size 432x288 with 1 Axes>"
      ]
     },
     "metadata": {
      "needs_background": "light"
     },
     "output_type": "display_data"
    },
    {
     "name": "stdout",
     "output_type": "stream",
     "text": [
      "Best Accuracy for test data: 65.64999999999999 %\n"
     ]
    }
   ],
   "source": [
    "X = np.array(max_depth_list)\n",
    "Y = np.array(min_samples_leaf_list)\n",
    "Z = np.array(dtree_test_accuracy_list)\n",
    "\n",
    "value_dict = {}\n",
    "for i in range(len(max_depth_list)):\n",
    "    value_dict[(X[i], Y[i])] = Z[i]\n",
    "\n",
    "fig, ax = plt.subplots(subplot_kw={\"projection\": \"3d\"})\n",
    "\n",
    "X, Y = np.meshgrid(X, Y)\n",
    "Z = np.empty(X.shape)\n",
    "for i in range(Z.shape[0]):\n",
    "    for j in range(Z.shape[1]):\n",
    "        Z[i][j] = value_dict[(X[i][j], Y[i][j])]\n",
    "        \n",
    "surf = ax.plot_surface(X, Y, Z, cmap=cm.coolwarm, linewidth=0, antialiased=False)\n",
    "ax.set_xlabel('Max Depth')\n",
    "ax.set_ylabel('Min Samples Leaf')\n",
    "ax.set_zlabel('Accuracy')\n",
    "plt.show()\n",
    "print(\"Best Accuracy for test data:\", np.max(Z)*100, '%')"
   ]
  },
  {
   "cell_type": "markdown",
   "id": "d1db3b73",
   "metadata": {},
   "source": [
    "#### train:"
   ]
  },
  {
   "cell_type": "code",
   "execution_count": 23,
   "id": "3ccd9dc1",
   "metadata": {},
   "outputs": [
    {
     "data": {
      "image/png": "[encoded data removed]",
      "text/plain": [
       "<Figure size 432x288 with 1 Axes>"
      ]
     },
     "metadata": {
      "needs_background": "light"
     },
     "output_type": "display_data"
    },
    {
     "name": "stdout",
     "output_type": "stream",
     "text": [
      "Best Accuracy for train data: 95.78333333333333 %\n"
     ]
    }
   ],
   "source": [
    "X = np.array(max_depth_list)\n",
    "Y = np.array(min_samples_leaf_list)\n",
    "Z = np.array(dtree_train_accuracy_list)\n",
    "for i in range(len(max_depth_list)):\n",
    "    value_dict[(X[i], Y[i])] = Z[i]\n",
    "\n",
    "fig, ax = plt.subplots(subplot_kw={\"projection\": \"3d\"})\n",
    "X, Y = np.meshgrid(X, Y)\n",
    "Z = np.empty(X.shape)\n",
    "for i in range(Z.shape[0]):\n",
    "    for j in range(Z.shape[1]):\n",
    "        Z[i][j] = value_dict[(X[i][j], Y[i][j])]\n",
    "        \n",
    "surf = ax.plot_surface(X, Y, Z, cmap=cm.coolwarm, linewidth=0, antialiased=False)\n",
    "ax.set_xlabel('Max Depth')\n",
    "ax.set_ylabel('Min Samples Leaf')\n",
    "ax.set_zlabel('Accuracy')\n",
    "plt.show()\n",
    "print(\"Best Accuracy for train data:\", np.max(Z)*100, '%')"
   ]
  },
  {
   "cell_type": "markdown",
   "id": "09cc5278",
   "metadata": {},
   "source": [
    "### Part 6:\n",
    "#### K-Nearest-Neighbors"
   ]
  },
  {
   "cell_type": "code",
   "execution_count": 24,
   "id": "52c57c27",
   "metadata": {},
   "outputs": [
    {
     "name": "stdout",
     "output_type": "stream",
     "text": [
      "KNN:\n",
      "              precision    recall  f1-score   support\n",
      "\n",
      "           0      0.628     0.546     0.584      1000\n",
      "           1      0.475     0.355     0.406      1000\n",
      "           2      0.486     0.633     0.550      1000\n",
      "           3      0.697     0.727     0.712      1000\n",
      "           4      0.515     0.548     0.531      1000\n",
      "           5      0.887     0.863     0.875      1000\n",
      "\n",
      "    accuracy                          0.612      6000\n",
      "   macro avg      0.615     0.612     0.610      6000\n",
      "weighted avg      0.615     0.612     0.610      6000\n",
      "\n"
     ]
    }
   ],
   "source": [
    "knn = KNeighborsClassifier(n_neighbors = 41)\n",
    "knn.fit(x_train, y_train)\n",
    "y_pred_test = knn.predict(x_test)\n",
    "print('KNN:')\n",
    "print(metrics.classification_report(y_test, y_pred_test, digits=3))"
   ]
  },
  {
   "cell_type": "markdown",
   "id": "2fdd5ecb",
   "metadata": {},
   "source": [
    "#### Decision Tree"
   ]
  },
  {
   "cell_type": "code",
   "execution_count": 25,
   "id": "b26d9e26",
   "metadata": {},
   "outputs": [
    {
     "name": "stdout",
     "output_type": "stream",
     "text": [
      "D-Tree:\n",
      "              precision    recall  f1-score   support\n",
      "\n",
      "           0      0.671     0.627     0.648      1000\n",
      "           1      0.494     0.368     0.422      1000\n",
      "           2      0.613     0.522     0.564      1000\n",
      "           3      0.702     0.767     0.733      1000\n",
      "           4      0.518     0.751     0.613      1000\n",
      "           5      0.904     0.838     0.870      1000\n",
      "\n",
      "    accuracy                          0.645      6000\n",
      "   macro avg      0.650     0.645     0.642      6000\n",
      "weighted avg      0.650     0.645     0.642      6000\n",
      "\n"
     ]
    }
   ],
   "source": [
    "dtree = tree.DecisionTreeClassifier(max_depth = 9, min_samples_leaf = 5)\n",
    "dtree = dtree.fit(x_train, y_train)\n",
    "y_pred_test = dtree.predict(x_test)\n",
    "print('D-Tree:')\n",
    "print(metrics.classification_report(y_test, y_pred_test, digits=3))"
   ]
  },
  {
   "cell_type": "markdown",
   "id": "a218849e",
   "metadata": {},
   "source": [
    "## Phase 3\n",
    "### Part 1:"
   ]
  },
  {
   "cell_type": "code",
   "execution_count": 33,
   "id": "7cbe0129",
   "metadata": {},
   "outputs": [
    {
     "name": "stdout",
     "output_type": "stream",
     "text": [
      "Accuracy: 69.76666666666667 %\n"
     ]
    }
   ],
   "source": [
    "# Random Forest\n",
    "# for testing model\n",
    "RF = RandomForestClassifier(n_estimators = 100, max_depth = 10, min_samples_leaf = 10)\n",
    "RF = RF.fit(x_train, y_train)\n",
    "y_pred_test = RF.predict(x_test)\n",
    "print('Accuracy:', metrics.accuracy_score(y_test, y_pred_test)*100, '%')"
   ]
  },
  {
   "cell_type": "markdown",
   "id": "68430e96",
   "metadata": {},
   "source": [
    "### Part 2:"
   ]
  },
  {
   "cell_type": "code",
   "execution_count": 37,
   "id": "e1fce2e8",
   "metadata": {},
   "outputs": [
    {
     "name": "stdout",
     "output_type": "stream",
     "text": [
      "( 90 10 7 ) ==> 0.6973333333333334\n",
      "( 90 10 8 ) ==> 0.696\n",
      "( 90 10 9 ) ==> 0.6951666666666667\n",
      "( 90 10 10 ) ==> 0.6971666666666667\n",
      "( 90 10 11 ) ==> 0.6938333333333333\n",
      "( 90 10 12 ) ==> 0.6953333333333334\n",
      "( 91 10 7 ) ==> 0.696\n",
      "( 91 10 8 ) ==> 0.6975\n",
      "( 91 10 9 ) ==> 0.697\n",
      "( 91 10 10 ) ==> 0.6963333333333334\n",
      "( 91 10 11 ) ==> 0.6938333333333333\n",
      "( 91 10 12 ) ==> 0.6946666666666667\n",
      "( 92 10 7 ) ==> 0.696\n",
      "( 92 10 8 ) ==> 0.6958333333333333\n",
      "( 92 10 9 ) ==> 0.701\n",
      "( 92 10 10 ) ==> 0.697\n",
      "( 92 10 11 ) ==> 0.6965\n",
      "( 92 10 12 ) ==> 0.695\n",
      "( 93 10 7 ) ==> 0.6968333333333333\n",
      "( 93 10 8 ) ==> 0.6925\n",
      "( 93 10 9 ) ==> 0.6955\n",
      "( 93 10 10 ) ==> 0.6975\n",
      "( 93 10 11 ) ==> 0.694\n",
      "( 93 10 12 ) ==> 0.6948333333333333\n",
      "( 94 10 7 ) ==> 0.6991666666666667\n",
      "( 94 10 8 ) ==> 0.6976666666666667\n",
      "( 94 10 9 ) ==> 0.6936666666666667\n",
      "( 94 10 10 ) ==> 0.6956666666666667\n",
      "( 94 10 11 ) ==> 0.6948333333333333\n",
      "( 94 10 12 ) ==> 0.6935\n",
      "( 95 10 7 ) ==> 0.6991666666666667\n",
      "( 95 10 8 ) ==> 0.6988333333333333\n",
      "( 95 10 9 ) ==> 0.6991666666666667\n",
      "( 95 10 10 ) ==> 0.696\n",
      "( 95 10 11 ) ==> 0.695\n",
      "( 95 10 12 ) ==> 0.6938333333333333\n",
      "( 96 10 7 ) ==> 0.696\n",
      "( 96 10 8 ) ==> 0.6975\n",
      "( 96 10 9 ) ==> 0.6978333333333333\n",
      "( 96 10 10 ) ==> 0.6943333333333334\n",
      "( 96 10 11 ) ==> 0.6943333333333334\n",
      "( 96 10 12 ) ==> 0.6945\n",
      "( 97 10 7 ) ==> 0.701\n",
      "( 97 10 8 ) ==> 0.6966666666666667\n",
      "( 97 10 9 ) ==> 0.695\n",
      "( 97 10 10 ) ==> 0.6963333333333334\n",
      "( 97 10 11 ) ==> 0.697\n",
      "( 97 10 12 ) ==> 0.696\n",
      "( 98 10 7 ) ==> 0.6978333333333333\n",
      "( 98 10 8 ) ==> 0.6995\n",
      "( 98 10 9 ) ==> 0.696\n",
      "( 98 10 10 ) ==> 0.6953333333333334\n",
      "( 98 10 11 ) ==> 0.6921666666666667\n",
      "( 98 10 12 ) ==> 0.6931666666666667\n",
      "( 99 10 7 ) ==> 0.6996666666666667\n",
      "( 99 10 8 ) ==> 0.6983333333333334\n",
      "( 99 10 9 ) ==> 0.6966666666666667\n",
      "( 99 10 10 ) ==> 0.6953333333333334\n",
      "( 99 10 11 ) ==> 0.6978333333333333\n",
      "( 99 10 12 ) ==> 0.6958333333333333\n",
      "( 100 10 7 ) ==> 0.6986666666666667\n",
      "( 100 10 8 ) ==> 0.6981666666666667\n",
      "( 100 10 9 ) ==> 0.6941666666666667\n",
      "( 100 10 10 ) ==> 0.6976666666666667\n",
      "( 100 10 11 ) ==> 0.6978333333333333\n",
      "( 100 10 12 ) ==> 0.6958333333333333\n",
      "( 101 10 7 ) ==> 0.6985\n",
      "( 101 10 8 ) ==> 0.698\n",
      "( 101 10 9 ) ==> 0.6968333333333333\n",
      "( 101 10 10 ) ==> 0.6963333333333334\n",
      "( 101 10 11 ) ==> 0.6951666666666667\n",
      "( 101 10 12 ) ==> 0.6953333333333334\n",
      "( 102 10 7 ) ==> 0.697\n",
      "( 102 10 8 ) ==> 0.6943333333333334\n",
      "( 102 10 9 ) ==> 0.6981666666666667\n",
      "( 102 10 10 ) ==> 0.6945\n",
      "( 102 10 11 ) ==> 0.6948333333333333\n",
      "( 102 10 12 ) ==> 0.6963333333333334\n",
      "( 103 10 7 ) ==> 0.7011666666666667\n",
      "( 103 10 8 ) ==> 0.6961666666666667\n",
      "( 103 10 9 ) ==> 0.6976666666666667\n",
      "( 103 10 10 ) ==> 0.6961666666666667\n",
      "( 103 10 11 ) ==> 0.6973333333333334\n",
      "( 103 10 12 ) ==> 0.6976666666666667\n",
      "( 104 10 7 ) ==> 0.6956666666666667\n",
      "( 104 10 8 ) ==> 0.6948333333333333\n",
      "( 104 10 9 ) ==> 0.6965\n",
      "( 104 10 10 ) ==> 0.696\n",
      "( 104 10 11 ) ==> 0.6955\n",
      "( 104 10 12 ) ==> 0.6985\n",
      "( 105 10 7 ) ==> 0.6975\n",
      "( 105 10 8 ) ==> 0.6953333333333334\n",
      "( 105 10 9 ) ==> 0.6975\n",
      "( 105 10 10 ) ==> 0.696\n",
      "( 105 10 11 ) ==> 0.6963333333333334\n",
      "( 105 10 12 ) ==> 0.6956666666666667\n",
      "( 106 10 7 ) ==> 0.699\n",
      "( 106 10 8 ) ==> 0.6978333333333333\n",
      "( 106 10 9 ) ==> 0.695\n",
      "( 106 10 10 ) ==> 0.6971666666666667\n",
      "( 106 10 11 ) ==> 0.6936666666666667\n",
      "( 106 10 12 ) ==> 0.699\n",
      "( 107 10 7 ) ==> 0.6983333333333334\n",
      "( 107 10 8 ) ==> 0.6953333333333334\n",
      "( 107 10 9 ) ==> 0.6955\n",
      "( 107 10 10 ) ==> 0.695\n",
      "( 107 10 11 ) ==> 0.6975\n",
      "( 107 10 12 ) ==> 0.6953333333333334\n",
      "( 108 10 7 ) ==> 0.6953333333333334\n",
      "( 108 10 8 ) ==> 0.6985\n",
      "( 108 10 9 ) ==> 0.6978333333333333\n",
      "( 108 10 10 ) ==> 0.6963333333333334\n",
      "( 108 10 11 ) ==> 0.6943333333333334\n",
      "( 108 10 12 ) ==> 0.6945\n",
      "( 109 10 7 ) ==> 0.6958333333333333\n",
      "( 109 10 8 ) ==> 0.6968333333333333\n",
      "( 109 10 9 ) ==> 0.695\n",
      "( 109 10 10 ) ==> 0.694\n",
      "( 109 10 11 ) ==> 0.6938333333333333\n",
      "( 109 10 12 ) ==> 0.6921666666666667\n"
     ]
    }
   ],
   "source": [
    "RF_results = {}\n",
    "max_depth = 10\n",
    "for n_estimators in range(90,110):\n",
    "    for min_samples_leaf in range(7,13):\n",
    "        RF = RandomForestClassifier(n_estimators = n_estimators, max_depth = max_depth, min_samples_leaf = min_samples_leaf)\n",
    "        RF = RF.fit(x_train, y_train)\n",
    "        y_pred_test = RF.predict(x_test)\n",
    "        print('(',n_estimators, max_depth, min_samples_leaf,')', '==>', metrics.accuracy_score(y_test, y_pred_test))\n",
    "        RF_results[(n_estimators, max_depth, min_samples_leaf)] = metrics.accuracy_score(y_test, y_pred_test)"
   ]
  },
  {
   "cell_type": "code",
   "execution_count": 38,
   "id": "b0035628",
   "metadata": {},
   "outputs": [
    {
     "name": "stdout",
     "output_type": "stream",
     "text": [
      "best key: (103, 10, 7)\n",
      "best accuracy: 70.11666666666667 %\n"
     ]
    }
   ],
   "source": [
    "keys = list(RF_results.keys())\n",
    "RF_accuracy_list = list(RF_results.values())\n",
    "# n = np.array(RF_accuracy_list)\n",
    "best_key = keys[np.argmax(np.array(RF_accuracy_list))]\n",
    "print('best key:', best_key)\n",
    "print('best accuracy:', RF_results[best_key]*100, '%')"
   ]
  },
  {
   "cell_type": "markdown",
   "id": "b8234654",
   "metadata": {},
   "source": [
    "### Part 3:"
   ]
  },
  {
   "cell_type": "code",
   "execution_count": 40,
   "id": "28ffcd65",
   "metadata": {},
   "outputs": [
    {
     "name": "stdout",
     "output_type": "stream",
     "text": [
      "Random Forest:\n",
      "              precision    recall  f1-score   support\n",
      "\n",
      "           0      0.724     0.717     0.721      1000\n",
      "           1      0.636     0.396     0.488      1000\n",
      "           2      0.696     0.623     0.658      1000\n",
      "           3      0.750     0.791     0.770      1000\n",
      "           4      0.533     0.794     0.638      1000\n",
      "           5      0.917     0.870     0.893      1000\n",
      "\n",
      "    accuracy                          0.699      6000\n",
      "   macro avg      0.709     0.699     0.695      6000\n",
      "weighted avg      0.709     0.699     0.695      6000\n",
      "\n"
     ]
    }
   ],
   "source": [
    "RF = RandomForestClassifier(n_estimators = 103, max_depth = 10, min_samples_leaf = 7)\n",
    "RF = RF.fit(x_train, y_train)\n",
    "y_pred_test = RF.predict(x_test)\n",
    "print('Random Forest:')\n",
    "print(metrics.classification_report(y_test, y_pred_test, digits=3))"
   ]
  },
  {
   "cell_type": "markdown",
   "id": "cc0ff156",
   "metadata": {},
   "source": [
    "### Part 4:"
   ]
  },
  {
   "cell_type": "code",
   "execution_count": 45,
   "id": "f5b7bf81",
   "metadata": {},
   "outputs": [
    {
     "data": {
      "image/png": "[encoded data removed]",
      "text/plain": [
       "<Figure size 432x288 with 1 Axes>"
      ]
     },
     "metadata": {
      "needs_background": "light"
     },
     "output_type": "display_data"
    }
   ],
   "source": [
    "matrix_confusion = metrics.confusion_matrix(y_test, y_pred_test)\n",
    "mc = sns.heatmap(matrix_confusion, square=True, annot=True, cmap='Blues', fmt='d', cbar=False)\n",
    "mc.set_title('Confusion Matrix\\n');\n",
    "mc.set_xlabel('\\nPredicted Values')\n",
    "mc.set_ylabel('Actual Values ');\n",
    "plt.show()"
   ]
  },
  {
   "cell_type": "code",
   "execution_count": null,
   "id": "0ae68c95",
   "metadata": {},
   "outputs": [],
   "source": []
  }
 ],
 "metadata": {
  "kernelspec": {
   "display_name": "Python 3 (ipykernel)",
   "language": "python",
   "name": "python3"
  },
  "language_info": {
   "codemirror_mode": {
    "name": "ipython",
    "version": 3
   },
   "file_extension": ".py",
   "mimetype": "text/x-python",
   "name": "python",
   "nbconvert_exporter": "python",
   "pygments_lexer": "ipython3",
   "version": "3.9.7"
  }
 },
 "nbformat": 4,
 "nbformat_minor": 5
}
